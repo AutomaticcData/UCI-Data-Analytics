{
 "cells": [
  {
   "cell_type": "markdown",
   "metadata": {},
   "source": [
    "# Dependencies"
   ]
  },
  {
   "cell_type": "code",
   "execution_count": 5,
   "metadata": {},
   "outputs": [],
   "source": [
    "#Created on Sat Aug 18 18:14:17 2018\n",
    "#@author: anthonyalvarez\n",
    "\n",
    "#import dependencies\n",
    "import pandas as pd\n",
    "import numpy as npy"
   ]
  },
  {
   "cell_type": "markdown",
   "metadata": {},
   "source": [
    "# File Operations"
   ]
  },
  {
   "cell_type": "code",
   "execution_count": 6,
   "metadata": {},
   "outputs": [],
   "source": [
    "#get the file\n",
    "file_path = \"Resources/purchase_data.csv\"\n",
    "\n",
    "#read the file into data frame\n",
    "master_df = pd.read_csv(file_path)"
   ]
  },
  {
   "cell_type": "markdown",
   "metadata": {},
   "source": [
    "# Functions"
   ]
  },
  {
   "cell_type": "code",
   "execution_count": 8,
   "metadata": {},
   "outputs": [],
   "source": [
    "#format a nice strings\n",
    "def pretty_money(num_float):\n",
    "    text_money =     '${:,.2f}'.format(num_float)\n",
    "    \n",
    "    return text_money\n",
    "\n",
    "def percentage_fix(num_float):\n",
    "    per_fix = '%{0:.2f}'.format(num_float)\n",
    "    \n",
    "    return per_fix"
   ]
  },
  {
   "cell_type": "code",
   "execution_count": null,
   "metadata": {},
   "outputs": [],
   "source": []
  }
 ],
 "metadata": {
  "kernelspec": {
   "display_name": "Python [conda env:PythonData]",
   "language": "python",
   "name": "conda-env-PythonData-py"
  },
  "language_info": {
   "codemirror_mode": {
    "name": "ipython",
    "version": 3
   },
   "file_extension": ".py",
   "mimetype": "text/x-python",
   "name": "python",
   "nbconvert_exporter": "python",
   "pygments_lexer": "ipython3",
   "version": "3.6.5"
  }
 },
 "nbformat": 4,
 "nbformat_minor": 2
}
