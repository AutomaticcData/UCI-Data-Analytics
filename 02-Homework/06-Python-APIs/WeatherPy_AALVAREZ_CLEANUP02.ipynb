{
 "cells": [
  {
   "cell_type": "markdown",
   "metadata": {},
   "source": [
    "## WeatherPy - Aalvarez"
   ]
  },
  {
   "cell_type": "code",
   "execution_count": 1,
   "metadata": {},
   "outputs": [],
   "source": [
    "#Created on Sun Sep 4 07:12 2018\n",
    "#@author: anthonyalvarez\n",
    "#Test Files: WeatheyPy_00.ipynb - WeatheyPy_03.ipynb"
   ]
  },
  {
   "cell_type": "markdown",
   "metadata": {},
   "source": [
    "### Referenced Material\n",
    " * https://bootcampspot-v2.com/sessions/472909/videos/25279\n",
    " * http://pandas.pydata.org/pandas-docs/version/0.17/generated/pandas.DataFrame.set_value.html\n",
    " * https://stackoverflow.com/questions/5244810/python-appending-a-dictionary-to-a-list-i-see-a-pointer-like-behavior\n",
    " * https://stackoverflow.com/questions/5242933/what-was-the-motivation-for-doing-lists-augmented-assignment-in-place-in-py\n",
    " * https://stackoverflow.com/questions/4432208/how-does-work-in-python\n",
    " * https://python-reference.readthedocs.io/en/latest/docs/operators/modulus.html\n",
    " * https://stackoverflow.com/questions/43668827/python-modulo-function\n",
    " * https://stackoverflow.com/questions/44513738/pandas-create-empty-dataframe-with-only-column-names\n",
    " * https://www.tutorialspoint.com/python/string_title.htm\n",
    " * https://stackoverflow.com/questions/134934/display-number-with-leading-zeros\n",
    " * https://pandas.pydata.org/pandas-docs/stable/generated/pandas.DataFrame.to_csv.html\n",
    " * https://matplotlib.org/examples/color/colormaps_reference.html\n",
    " * dates from the openweatherapi are stored as [dt] Time of data calculation, unix, UTC\n",
    " * https://openweathermap.org/current\n",
    " * https://stackoverflow.com/questions/46565580/convert-unix-timestamp-in-python-to-datetime-and-make-2-hours-behind"
   ]
  },
  {
   "cell_type": "markdown",
   "metadata": {},
   "source": [
    "## Requirements\n",
    "\n",
    "In this example, you'll be creating a Python script to visualize the weather of 500+ cities across the world of varying distance from the equator. To accomplish this, you'll be utilizing a [simple Python library](https://pypi.python.org/pypi/citipy), the [OpenWeatherMap API](https://openweathermap.org/api), and a little common sense to create a representative model of weather across world cities.\n",
    "\n",
    "Your objective is to build a series of scatter plots to showcase the following relationships:\n",
    "\n",
    "* Temperature (F) vs. Latitude\n",
    "* Humidity (%) vs. Latitude\n",
    "* Cloudiness (%) vs. Latitude\n",
    "* Wind Speed (mph) vs. Latitude\n",
    "\n",
    "Your final notebook must:\n",
    "\n",
    "* Randomly select **at least** 500 unique (non-repeat) cities based on latitude and longitude.\n",
    "* Perform a weather check on each of the cities using a series of successive API calls.\n",
    "* Include a print log of each city as it's being processed with the city number and city name.\n",
    "* Save both a CSV of all data retrieved and png images for each scatter plot."
   ]
  },
  {
   "cell_type": "markdown",
   "metadata": {},
   "source": [
    "---\n",
    "### Data Sources ![Data Sources Used](images/excelcsv_med.png \"Excel Csv\")\n",
    "\n",
    "* [Mouse Data](data/clinicaltrial_data.csv) Clinical Data including Time, Size and Metastatic Sites\n",
    "* [Clinical Data](data/mouse_drug_data.csv) Mouse ID and Type of Drug Given\n",
    "* [Merged Data](data/merged_clinical_mouse.csv) Combined Data from the 2 initial data sets\n",
    "* [Clean Clinical Data](data/clean_clinical_mouse) Data Source used for this project\n"
   ]
  },
  {
   "cell_type": "markdown",
   "metadata": {},
   "source": [
    "---\n",
    "### Data Visualizations\n",
    "\n",
    "<a href=\"images/01_tumorvolumechangesovertime.png\" target=\"_blank\">Tumor Volume Changes Over Time</a>\n",
    "<img src=\"images/01_tumorvolumechangesovertime.png\" alt=\"Tumor 1\" height=\"600\" width=\"400\">\n",
    "\n",
    "<a href=\"images/01_tumorvolumechangesovertime.png\" target=\"_blank\">Metastatic Sites Change Over Time</a>\n",
    "<img src=\"images/02_metastaticchangesovertime.png\" alt=\"Data Link\" height=\"600\" width=\"400\">\n",
    "\n",
    "<a href=\"images/01_tumorvolumechangesovertime.png\" target=\"_blank\">Survival Rates Of Mice</a>\n",
    "<img src=\"images/03_survivalratesofmice.png\" alt=\"Data Link\" height=\"600\" width=\"400\">\n",
    "\n",
    "<a href=\"images/01_tumorvolumechangesovertime.png\" target=\"_blank\">Tumor Volume Change For Each Drug Over Time</a>\n",
    "<img src=\"images/04_tumorvolumechangesinpercent.png\" alt=\"Data Link\" height=\"600\" width=\"400\">"
   ]
  },
  {
   "cell_type": "markdown",
   "metadata": {},
   "source": [
    "---\n",
    "### Observable Trends\n",
    "\n",
    " * From the Tumor volume change over time chart, a noticeable trend is displayed by the drug \"Capomulin\" \n",
    "in helping to reduce tumor size over.\n",
    "Immediate reductions can be observed within the first 5 days. Also quite evident, is the fact that\n",
    "the other 2 drugs (minus the placebo) did not seem to reduce nor accelerate tumor growth.\n",
    "\n",
    "\n",
    " * For the number of Metastatic changes over time chart, Placebo is just slightly above or very near the effects \n",
    "for Ketapril. Ketapril however, seems to have the least amount of dramatic change where the data more linear \n",
    "than the other 3 types of drugs. This shows consistency for Ketapril use over time. This also exhibits a much\n",
    "slower decrease in Metastatic sites for Capomulin use.\n",
    "\n",
    "\n",
    " * In viewing the survival rates of mice during treatment, Infubinol, Ketapril and Placebo all exhibit a \n",
    "much higher rat"
   ]
  },
  {
   "cell_type": "markdown",
   "metadata": {},
   "source": [
    "---\n",
    "## Dependencies"
   ]
  },
  {
   "cell_type": "code",
   "execution_count": null,
   "metadata": {},
   "outputs": [],
   "source": []
  },
  {
   "cell_type": "markdown",
   "metadata": {},
   "source": [
    "## File Operations"
   ]
  },
  {
   "cell_type": "code",
   "execution_count": null,
   "metadata": {},
   "outputs": [],
   "source": []
  },
  {
   "cell_type": "code",
   "execution_count": null,
   "metadata": {},
   "outputs": [],
   "source": []
  },
  {
   "cell_type": "code",
   "execution_count": null,
   "metadata": {},
   "outputs": [],
   "source": []
  },
  {
   "cell_type": "code",
   "execution_count": null,
   "metadata": {},
   "outputs": [],
   "source": []
  },
  {
   "cell_type": "code",
   "execution_count": null,
   "metadata": {},
   "outputs": [],
   "source": []
  }
 ],
 "metadata": {
  "kernelspec": {
   "display_name": "Python [conda env:PythonData]",
   "language": "python",
   "name": "conda-env-PythonData-py"
  },
  "language_info": {
   "codemirror_mode": {
    "name": "ipython",
    "version": 3
   },
   "file_extension": ".py",
   "mimetype": "text/x-python",
   "name": "python",
   "nbconvert_exporter": "python",
   "pygments_lexer": "ipython3",
   "version": "3.6.5"
  }
 },
 "nbformat": 4,
 "nbformat_minor": 2
}
