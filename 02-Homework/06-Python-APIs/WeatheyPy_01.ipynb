{
 "cells": [
  {
   "cell_type": "code",
   "execution_count": 177,
   "metadata": {},
   "outputs": [],
   "source": [
    "#References\n",
    "#https://bootcampspot-v2.com/sessions/472909/videos/25279\n",
    "#http://pandas.pydata.org/pandas-docs/version/0.17/generated/pandas.DataFrame.set_value.html\n",
    "#https://stackoverflow.com/questions/5244810/python-appending-a-dictionary-to-a-list-i-see-a-pointer-like-behavior\n",
    "#https://stackoverflow.com/questions/5242933/what-was-the-motivation-for-doing-lists-augmented-assignment-in-place-in-py\n",
    "#https://stackoverflow.com/questions/4432208/how-does-work-in-python\n",
    "#https://python-reference.readthedocs.io/en/latest/docs/operators/modulus.html\n",
    "#https://stackoverflow.com/questions/43668827/python-modulo-function\n",
    "#https://stackoverflow.com/questions/44513738/pandas-create-empty-dataframe-with-only-column-names\n",
    "#https://www.tutorialspoint.com/python/string_title.htm\n",
    "#https://stackoverflow.com/questions/134934/display-number-with-leading-zeros\n",
    "#https://pandas.pydata.org/pandas-docs/stable/generated/pandas.DataFrame.to_csv.html\n"
   ]
  },
  {
   "cell_type": "code",
   "execution_count": 4,
   "metadata": {},
   "outputs": [],
   "source": [
    "# Dependencies and Setup\n",
    "import matplotlib.pyplot as plt\n",
    "import pandas as pd\n",
    "import numpy as np\n",
    "import requests\n",
    "import time\n",
    "\n",
    "# Import API key\n",
    "from api_keys import api_key\n",
    "\n",
    "\n",
    "# Incorporated citipy to determine city based on latitude and longitude\n",
    "from citipy import citipy\n",
    "\n",
    "# Output File (CSV)\n",
    "output_data_file = \"output_data/cities.csv\"\n"
   ]
  },
  {
   "cell_type": "code",
   "execution_count": 5,
   "metadata": {},
   "outputs": [],
   "source": [
    "# Range of latitudes and longitudes\n",
    "lat_range = (-90, 90)\n",
    "lng_range = (-180, 180)"
   ]
  },
  {
   "cell_type": "code",
   "execution_count": 153,
   "metadata": {},
   "outputs": [],
   "source": [
    "# List for holding lat_lngs and cities\n",
    "lat_lngs = []\n",
    "cities = []\n",
    "\n",
    "# Create a set of random lat and lng combinations\n",
    "lats = np.random.uniform(low=-90.000, high=90.000, size=1500)\n",
    "lngs = np.random.uniform(low=-180.000, high=180.000, size=1500)"
   ]
  },
  {
   "cell_type": "code",
   "execution_count": 176,
   "metadata": {},
   "outputs": [
    {
     "data": {
      "text/html": [
       "<div>\n",
       "<style scoped>\n",
       "    .dataframe tbody tr th:only-of-type {\n",
       "        vertical-align: middle;\n",
       "    }\n",
       "\n",
       "    .dataframe tbody tr th {\n",
       "        vertical-align: top;\n",
       "    }\n",
       "\n",
       "    .dataframe thead th {\n",
       "        text-align: right;\n",
       "    }\n",
       "</style>\n",
       "<table border=\"1\" class=\"dataframe\">\n",
       "  <thead>\n",
       "    <tr style=\"text-align: right;\">\n",
       "      <th></th>\n",
       "      <th>Lat</th>\n",
       "      <th>Long</th>\n",
       "    </tr>\n",
       "  </thead>\n",
       "  <tbody>\n",
       "    <tr>\n",
       "      <th>0</th>\n",
       "      <td>79.683488</td>\n",
       "      <td>34.973856</td>\n",
       "    </tr>\n",
       "    <tr>\n",
       "      <th>1</th>\n",
       "      <td>-21.774200</td>\n",
       "      <td>-129.747536</td>\n",
       "    </tr>\n",
       "    <tr>\n",
       "      <th>2</th>\n",
       "      <td>34.918684</td>\n",
       "      <td>74.971213</td>\n",
       "    </tr>\n",
       "    <tr>\n",
       "      <th>3</th>\n",
       "      <td>10.995184</td>\n",
       "      <td>23.468342</td>\n",
       "    </tr>\n",
       "    <tr>\n",
       "      <th>4</th>\n",
       "      <td>59.184856</td>\n",
       "      <td>-123.048729</td>\n",
       "    </tr>\n",
       "  </tbody>\n",
       "</table>\n",
       "</div>"
      ],
      "text/plain": [
       "         Lat        Long\n",
       "0  79.683488   34.973856\n",
       "1 -21.774200 -129.747536\n",
       "2  34.918684   74.971213\n",
       "3  10.995184   23.468342\n",
       "4  59.184856 -123.048729"
      ]
     },
     "execution_count": 176,
     "metadata": {},
     "output_type": "execute_result"
    }
   ],
   "source": [
    "#using the starter code, build a dataframe for lat/long visaid\n",
    "#maybe create a dataframe with empty columns and then add to it?\n",
    "#https://stackoverflow.com/questions/44513738/pandas-create-empty-dataframe-with-only-column-names\n",
    "\n",
    "#bad syntax missing {}\n",
    "#latlong_df = pd.DataFrame(\"Lat\": lats, \"Long\": lngs)\n",
    "\n",
    "latlong_df = pd.DataFrame({\"Lat\": lats, \"Long\": lngs})\n",
    "\n",
    "latlong_df.head()"
   ]
  },
  {
   "cell_type": "code",
   "execution_count": 155,
   "metadata": {},
   "outputs": [],
   "source": [
    "lat_lngs = zip(lats, lngs)\n",
    "\n",
    "citiesnearby = []"
   ]
  },
  {
   "cell_type": "code",
   "execution_count": 156,
   "metadata": {},
   "outputs": [
    {
     "name": "stdout",
     "output_type": "stream",
     "text": [
      "Using 1500 coordinates, found 602 citie(s)\n"
     ]
    }
   ],
   "source": [
    "\n",
    "# Identify nearest city for each lat, lng combination\n",
    "for lat_lng in lat_lngs:\n",
    "    city = citipy.nearest_city(lat_lng[0], lat_lng[1]).city_name\n",
    "    \n",
    "    #find the total amount of cities nearby because im curious\n",
    "    citiesnearby.append(city)\n",
    "    \n",
    "    # If the city is unique, then add it to a our cities list\n",
    "    if city not in cities:\n",
    "        #print(city)\n",
    "        cities.append(city)\n",
    "\n",
    "# Print the city count to confirm sufficient count\n",
    "#print(len(cities))\n",
    "#print(len(citiesnearby))\n",
    "\n",
    "num_cities_found = len(cities)\n",
    "num_coordinates = len(citiesnearby)\n",
    "\n",
    "print(f'Using {num_coordinates} coordinates, found {num_cities_found} citie(s)')\n"
   ]
  },
  {
   "cell_type": "code",
   "execution_count": null,
   "metadata": {},
   "outputs": [],
   "source": []
  },
  {
   "cell_type": "code",
   "execution_count": 157,
   "metadata": {},
   "outputs": [
    {
     "data": {
      "text/html": [
       "<div>\n",
       "<style scoped>\n",
       "    .dataframe tbody tr th:only-of-type {\n",
       "        vertical-align: middle;\n",
       "    }\n",
       "\n",
       "    .dataframe tbody tr th {\n",
       "        vertical-align: top;\n",
       "    }\n",
       "\n",
       "    .dataframe thead th {\n",
       "        text-align: right;\n",
       "    }\n",
       "</style>\n",
       "<table border=\"1\" class=\"dataframe\">\n",
       "  <thead>\n",
       "    <tr style=\"text-align: right;\">\n",
       "      <th></th>\n",
       "      <th>Cities</th>\n",
       "    </tr>\n",
       "  </thead>\n",
       "  <tbody>\n",
       "    <tr>\n",
       "      <th>0</th>\n",
       "      <td>vardo</td>\n",
       "    </tr>\n",
       "    <tr>\n",
       "      <th>1</th>\n",
       "      <td>rikitea</td>\n",
       "    </tr>\n",
       "    <tr>\n",
       "      <th>2</th>\n",
       "      <td>bandipur</td>\n",
       "    </tr>\n",
       "    <tr>\n",
       "      <th>3</th>\n",
       "      <td>birao</td>\n",
       "    </tr>\n",
       "    <tr>\n",
       "      <th>4</th>\n",
       "      <td>fort nelson</td>\n",
       "    </tr>\n",
       "  </tbody>\n",
       "</table>\n",
       "</div>"
      ],
      "text/plain": [
       "        Cities\n",
       "0        vardo\n",
       "1      rikitea\n",
       "2     bandipur\n",
       "3        birao\n",
       "4  fort nelson"
      ]
     },
     "execution_count": 157,
     "metadata": {},
     "output_type": "execute_result"
    }
   ],
   "source": [
    "cities_df = pd.DataFrame({\"Cities\":cities})\n",
    "cities_df.head()"
   ]
  },
  {
   "cell_type": "code",
   "execution_count": 158,
   "metadata": {},
   "outputs": [
    {
     "name": "stdout",
     "output_type": "stream",
     "text": [
      "http://api.openweathermap.org/data/2.5/weather?appid=69958e30913d3cf9ab8231330ad52ba7&units=imperial&q=\n"
     ]
    }
   ],
   "source": [
    "baseurl = \"http://api.openweathermap.org/data/2.5/weather?\"\n",
    "units = \"metric\"\n",
    "units = \"imperial\"\n",
    "\n",
    "# Build partial query URL\n",
    "query_url = f\"{baseurl}appid={api_key}&units={units}&q=\"\n",
    "print(query_url)"
   ]
  },
  {
   "cell_type": "code",
   "execution_count": 188,
   "metadata": {},
   "outputs": [
    {
     "name": "stdout",
     "output_type": "stream",
     "text": [
      "Begin Processing from 602 Cities. 25 Attempts\n",
      "Beginning Data Retrieval\n",
      "-----------------------------\n",
      "00: Add  1 City: Vardo Group 0\n",
      "01: Add  2 City: Rikitea Group 0\n",
      "02: Add  3 City: Bandipur Group 0\n",
      "03: Add  4 City: Birao Group 0\n",
      "04: Add  5 City: Fort Nelson Group 1\n",
      "05: Add  6 City: Hirara Group 1\n",
      "06: Add  7 City: Kalemie Group 1\n",
      "07: Add  8 City: Barrow Group 1\n",
      "08: Add  9 City: Iqaluit Group 1\n",
      "09: Add  10 City: Brownsville Group 2\n",
      "10: Add  11 City: San Cristobal Group 2\n",
      "11: Add  12 City: Ilulissat Group 2\n",
      "12: Skip ** City:Barentsburg not found.\n",
      "13: Skip ** City:Vaitupu not found.\n",
      "14: Add  13 City: Ushuaia Group 2\n",
      "15: Add  14 City: Teknaf Group 2\n",
      "16: Add  15 City: Cherskiy Group 3\n",
      "17: Add  16 City: Provideniya Group 3\n",
      "18: Add  17 City: Nador Group 3\n",
      "19: Add  18 City: Karabash Group 3\n",
      "20: Add  19 City: Saint-Paul Group 3\n",
      "21: Add  20 City: Kapaa Group 4\n",
      "22: Add  21 City: Karratha Group 4\n",
      "23: Add  22 City: Vanimo Group 4\n",
      "24: Add  23 City: Tasiilaq Group 4\n",
      "25: Add  24 City: Beringovskiy Group 4\n",
      "-----------------------------\n",
      "Data Retrieval Complete      \n",
      "\n",
      "********SUMMARY**************\n",
      "Using 1500 coordinates, found 602 citie(s).\n",
      "Created 4 group(s) from a total of 24 citie(s).\n",
      "-----------------------------\n"
     ]
    }
   ],
   "source": [
    "\n",
    "#used for testing only --------->\n",
    "#track the unique responses, found 2 [200, 404]\n",
    "#responsetypes = [] \n",
    "#<-------------------------------\n",
    "\n",
    "#set up a counter\n",
    "counter = 0\n",
    "numbreak = 25\n",
    "\n",
    "#count cities added\n",
    "citiesadded = 0\n",
    "\n",
    "#set up a grouping or modulus group using %\n",
    "modnum = 5\n",
    "modgroup = 0\n",
    "\n",
    "#weathercities = {\"city\":,\"country\":}\n",
    "#dictionary object not working using list instead\n",
    "weathercities = []\n",
    "\n",
    "#testing print --------------------------->\n",
    "print(f'Begin Processing from {len(cities)} Cities. {numbreak} Attempts')\n",
    "print('Beginning Data Retrieval')\n",
    "print('-----------------------------')\n",
    "\n",
    "#<-----------end testing print\n",
    "\n",
    "\n",
    "#loop through the dataframe\n",
    "for index, row in cities_df.iterrows():\n",
    "    #print(row[\"Cities\"])\n",
    "    thecity = row[\"Cities\"]\n",
    "    city_url = query_url + thecity\n",
    "    #print(city_url)\n",
    "    \n",
    "    city_response = requests.get(city_url).json()\n",
    "        \n",
    "\n",
    "    ##This section for testing only ---------->\n",
    "    ##checking for bad responses, only check to see if its possible to get have errors\n",
    "    ##results are we found 2 different response types so we have to deal with them\n",
    "    #responsetype = requests.get(city_url).status_code\n",
    "    #if responsetype not in responsetypes:\n",
    "    #    responsetypes.append(responsetype)\n",
    "    ##<-----------------End testing reponse types\n",
    "    \n",
    "    #testing mod groups\n",
    "    #if (index % 2 == 0):\n",
    "        #modgroup +=1\n",
    "    #<----end mod testing\n",
    "        \n",
    "    \n",
    "    \n",
    "    #if we find a response with 404 we need to skip it\n",
    "    responsetype = requests.get(city_url).status_code\n",
    "    #print(responsetype)\n",
    "    \n",
    "    if responsetype == 200:\n",
    "        citiesadded += 1\n",
    "        #print(responsetype)\n",
    "        #print(city_response[\"id\"])\n",
    "        #print(city_response[\"sys\"][\"country\"])\n",
    "        city_id = city_response[\"id\"]\n",
    "        city_country = city_response[\"sys\"][\"country\"]\n",
    "        city_lat = city_response[\"coord\"][\"lon\"]\n",
    "        city_long = city_response[\"coord\"][\"lat\"]\n",
    "        city_name = city_response[\"name\"]\n",
    "        city_temp_max = city_response[\"main\"][\"temp_max\"]\n",
    "        city_humidity = city_response[\"main\"][\"humidity\"]\n",
    "        city_clouds = city_response[\"clouds\"][\"all\"]\n",
    "        city_winds = city_response[\"wind\"][\"speed\"]\n",
    "        \n",
    "        #make it so that the cities added Groupings are ONLY for cities added, \n",
    "        #and NOT for the entire list we are searching, this would give us inconsistencies in groups\n",
    "        if (citiesadded % modnum ==0):\n",
    "            modgroup +=1\n",
    "        \n",
    "        #print(f'ID:{city_id} Country:{city_country} City:{city_name}')\n",
    "        \n",
    "\n",
    "        weathercities.append({\"cityid\":city_id\n",
    "                              ,\"country\":city_country\n",
    "                              ,\"city\":city_name\n",
    "                              ,\"lat\":city_lat\n",
    "                              ,\"long\":city_long\n",
    "                              ,\"max temp\":city_temp_max\n",
    "                              ,\"humidity\":city_humidity\n",
    "                              ,\"cloudiness\":city_clouds\n",
    "                              ,\"wind speed\":city_winds\n",
    "                              ,\"grouping\":modgroup\n",
    "                             })\n",
    "\n",
    "        #print(f'Adding {counter} city{city_name} ModGroup# {modgroup}')\n",
    "        #\"{:10.4f}\".format(x)\n",
    "        #https://stackoverflow.com/questions/134934/display-number-with-leading-zeros\n",
    "        print(f'{str(index).zfill(2)}: Add  {citiesadded} City: {thecity.title()} Group {modgroup}')\n",
    "        \n",
    "    else:\n",
    "        #print(f'City:{thecity} Response:{responsetype}')\n",
    "        print(f'{str(index).zfill(2)}: Skip ** City:{thecity.title()} not found.')\n",
    "    \n",
    "    #print(f'ModGroup# {modgroup}')\n",
    "    \n",
    "    \n",
    "    #testing for the first 5 records\n",
    "    if counter == numbreak:\n",
    "        break\n",
    "    \n",
    "      \n",
    "    counter+=1\n",
    "        \n",
    "        \n",
    "print('-----------------------------')\n",
    "print('Data Retrieval Complete      \\n')\n",
    "print('********SUMMARY**************')\n",
    "print(f'Using {num_coordinates} coordinates, found {num_cities_found} citie(s).')\n",
    "print(f'Created {modgroup} group(s) from a total of {len(weathercities)} citie(s).')\n",
    "print('-----------------------------')\n"
   ]
  },
  {
   "cell_type": "code",
   "execution_count": 189,
   "metadata": {},
   "outputs": [
    {
     "name": "stdout",
     "output_type": "stream",
     "text": [
      "city          24\n",
      "cityid        24\n",
      "couldiness    24\n",
      "country       24\n",
      "grouping      24\n",
      "humidity      24\n",
      "lat           24\n",
      "long          24\n",
      "max temp      24\n",
      "wind speed    24\n",
      "dtype: int64\n"
     ]
    },
    {
     "data": {
      "text/plain": [
       "{'cityid': 4372777,\n",
       " 'country': 'US',\n",
       " 'city': 'Vardo',\n",
       " 'lat': -77.74,\n",
       " 'long': 39.62,\n",
       " 'max temp': 95,\n",
       " 'humidity': 44,\n",
       " 'cloudiness': 40,\n",
       " 'wind speed': 6.93,\n",
       " 'grouping': 0}"
      ]
     },
     "execution_count": 189,
     "metadata": {},
     "output_type": "execute_result"
    }
   ],
   "source": [
    "print(weather_cities_df.count())\n",
    "#weathercities[0:2]\n",
    "weathercities[0]"
   ]
  },
  {
   "cell_type": "code",
   "execution_count": 190,
   "metadata": {},
   "outputs": [
    {
     "data": {
      "text/html": [
       "<div>\n",
       "<style scoped>\n",
       "    .dataframe tbody tr th:only-of-type {\n",
       "        vertical-align: middle;\n",
       "    }\n",
       "\n",
       "    .dataframe tbody tr th {\n",
       "        vertical-align: top;\n",
       "    }\n",
       "\n",
       "    .dataframe thead th {\n",
       "        text-align: right;\n",
       "    }\n",
       "</style>\n",
       "<table border=\"1\" class=\"dataframe\">\n",
       "  <thead>\n",
       "    <tr style=\"text-align: right;\">\n",
       "      <th></th>\n",
       "      <th>city</th>\n",
       "      <th>cityid</th>\n",
       "      <th>cloudiness</th>\n",
       "      <th>country</th>\n",
       "      <th>grouping</th>\n",
       "      <th>humidity</th>\n",
       "      <th>lat</th>\n",
       "      <th>long</th>\n",
       "      <th>max temp</th>\n",
       "      <th>wind speed</th>\n",
       "    </tr>\n",
       "  </thead>\n",
       "  <tbody>\n",
       "    <tr>\n",
       "      <th>0</th>\n",
       "      <td>Vardo</td>\n",
       "      <td>4372777</td>\n",
       "      <td>40</td>\n",
       "      <td>US</td>\n",
       "      <td>0</td>\n",
       "      <td>44</td>\n",
       "      <td>-77.74</td>\n",
       "      <td>39.62</td>\n",
       "      <td>95.00</td>\n",
       "      <td>6.93</td>\n",
       "    </tr>\n",
       "    <tr>\n",
       "      <th>1</th>\n",
       "      <td>Rikitea</td>\n",
       "      <td>4030556</td>\n",
       "      <td>64</td>\n",
       "      <td>PF</td>\n",
       "      <td>0</td>\n",
       "      <td>100</td>\n",
       "      <td>-134.97</td>\n",
       "      <td>-23.12</td>\n",
       "      <td>71.14</td>\n",
       "      <td>28.32</td>\n",
       "    </tr>\n",
       "    <tr>\n",
       "      <th>2</th>\n",
       "      <td>Bandipur</td>\n",
       "      <td>1270686</td>\n",
       "      <td>88</td>\n",
       "      <td>IN</td>\n",
       "      <td>0</td>\n",
       "      <td>95</td>\n",
       "      <td>76.63</td>\n",
       "      <td>11.67</td>\n",
       "      <td>64.39</td>\n",
       "      <td>2.04</td>\n",
       "    </tr>\n",
       "    <tr>\n",
       "      <th>3</th>\n",
       "      <td>Birao</td>\n",
       "      <td>240210</td>\n",
       "      <td>44</td>\n",
       "      <td>CF</td>\n",
       "      <td>0</td>\n",
       "      <td>98</td>\n",
       "      <td>22.78</td>\n",
       "      <td>10.30</td>\n",
       "      <td>70.42</td>\n",
       "      <td>4.05</td>\n",
       "    </tr>\n",
       "    <tr>\n",
       "      <th>4</th>\n",
       "      <td>Fort Nelson</td>\n",
       "      <td>5955902</td>\n",
       "      <td>75</td>\n",
       "      <td>CA</td>\n",
       "      <td>1</td>\n",
       "      <td>61</td>\n",
       "      <td>-122.69</td>\n",
       "      <td>58.81</td>\n",
       "      <td>46.40</td>\n",
       "      <td>3.36</td>\n",
       "    </tr>\n",
       "  </tbody>\n",
       "</table>\n",
       "</div>"
      ],
      "text/plain": [
       "          city   cityid  cloudiness country  grouping  humidity     lat  \\\n",
       "0        Vardo  4372777          40      US         0        44  -77.74   \n",
       "1      Rikitea  4030556          64      PF         0       100 -134.97   \n",
       "2     Bandipur  1270686          88      IN         0        95   76.63   \n",
       "3        Birao   240210          44      CF         0        98   22.78   \n",
       "4  Fort Nelson  5955902          75      CA         1        61 -122.69   \n",
       "\n",
       "    long  max temp  wind speed  \n",
       "0  39.62     95.00        6.93  \n",
       "1 -23.12     71.14       28.32  \n",
       "2  11.67     64.39        2.04  \n",
       "3  10.30     70.42        4.05  \n",
       "4  58.81     46.40        3.36  "
      ]
     },
     "execution_count": 190,
     "metadata": {},
     "output_type": "execute_result"
    }
   ],
   "source": [
    "weather_cities_df = pd.DataFrame(weathercities)\n",
    "weather_cities_df.head()"
   ]
  },
  {
   "cell_type": "code",
   "execution_count": 183,
   "metadata": {},
   "outputs": [],
   "source": [
    "#export the dataframe to csv\n",
    "weather_cities_df.to_csv(\"../data/testing_cities.csv\")"
   ]
  },
  {
   "cell_type": "code",
   "execution_count": 187,
   "metadata": {},
   "outputs": [],
   "source": [
    "#get the plot values\n",
    "\n",
    "#x plot lattitudes\n",
    "xplot_lats = weather_cities_df[\"lat\"]\n",
    "\n",
    "#temperatures\n",
    "yplot_temp = weather_cities_df[\"max temp\"]\n",
    "\n",
    "#humidities\n",
    "yplot_humid = weather_cities_df[\"humidity\"]\n",
    "\n",
    "#cloudiness\n",
    "yplot_clouds = weather_cities_df[\"\"]\n",
    "\n",
    "#wind speeds\n",
    "yplot_winds = weather_cities_df[\"max temp\"]\n"
   ]
  },
  {
   "cell_type": "code",
   "execution_count": null,
   "metadata": {},
   "outputs": [],
   "source": []
  },
  {
   "cell_type": "code",
   "execution_count": null,
   "metadata": {},
   "outputs": [],
   "source": []
  },
  {
   "cell_type": "code",
   "execution_count": 71,
   "metadata": {},
   "outputs": [],
   "source": [
    "#city_data = {\"id\",\"lat\",\"lng\"}\n",
    "city_data = pd.DataFrame([\n",
    "                            {\n",
    "                                \"id\"\n",
    "                                ,\"Country\"\n",
    "                            }\n",
    "    \n",
    "])\n"
   ]
  },
  {
   "cell_type": "code",
   "execution_count": null,
   "metadata": {},
   "outputs": [],
   "source": []
  },
  {
   "cell_type": "code",
   "execution_count": 62,
   "metadata": {},
   "outputs": [
    {
     "ename": "SyntaxError",
     "evalue": "invalid syntax (<ipython-input-62-bca96e453886>, line 1)",
     "output_type": "error",
     "traceback": [
      "\u001b[1;36m  File \u001b[1;32m\"<ipython-input-62-bca96e453886>\"\u001b[1;36m, line \u001b[1;32m1\u001b[0m\n\u001b[1;33m    city_data.append({\"id\":4,\"lat\",\"lng\"})\u001b[0m\n\u001b[1;37m                                  ^\u001b[0m\n\u001b[1;31mSyntaxError\u001b[0m\u001b[1;31m:\u001b[0m invalid syntax\n"
     ]
    }
   ],
   "source": [
    "city_data.append({\"id\":4,\"lat\",\"lng\"})\n",
    "#city_data.append({\"id\":5,\"lat\":6,\"lng\"})\n",
    "#city_data.append({\"id\":6,\"lat\":7,\"lng\":8})"
   ]
  },
  {
   "cell_type": "code",
   "execution_count": 60,
   "metadata": {},
   "outputs": [
    {
     "data": {
      "text/plain": [
       "[{'id', 'lat', 'lng'}]"
      ]
     },
     "execution_count": 60,
     "metadata": {},
     "output_type": "execute_result"
    }
   ],
   "source": [
    "city_data"
   ]
  },
  {
   "cell_type": "code",
   "execution_count": null,
   "metadata": {},
   "outputs": [],
   "source": []
  },
  {
   "cell_type": "code",
   "execution_count": null,
   "metadata": {},
   "outputs": [],
   "source": []
  },
  {
   "cell_type": "code",
   "execution_count": null,
   "metadata": {},
   "outputs": [],
   "source": []
  }
 ],
 "metadata": {
  "kernelspec": {
   "display_name": "Python [conda env:PythonData]",
   "language": "python",
   "name": "conda-env-PythonData-py"
  },
  "language_info": {
   "codemirror_mode": {
    "name": "ipython",
    "version": 3
   },
   "file_extension": ".py",
   "mimetype": "text/x-python",
   "name": "python",
   "nbconvert_exporter": "python",
   "pygments_lexer": "ipython3",
   "version": "3.6.5"
  }
 },
 "nbformat": 4,
 "nbformat_minor": 2
}
