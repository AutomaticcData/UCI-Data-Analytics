{
 "cells": [
  {
   "cell_type": "code",
   "execution_count": 66,
   "metadata": {},
   "outputs": [],
   "source": [
    "#References\n",
    "#https://bootcampspot-v2.com/sessions/472909/videos/25279\n",
    "#http://pandas.pydata.org/pandas-docs/version/0.17/generated/pandas.DataFrame.set_value.html\n",
    "#https://stackoverflow.com/questions/5244810/python-appending-a-dictionary-to-a-list-i-see-a-pointer-like-behavior\n",
    "#https://stackoverflow.com/questions/5242933/what-was-the-motivation-for-doing-lists-augmented-assignment-in-place-in-py\n",
    "#https://stackoverflow.com/questions/4432208/how-does-work-in-python\n",
    "#https://python-reference.readthedocs.io/en/latest/docs/operators/modulus.html\n",
    "#https://stackoverflow.com/questions/43668827/python-modulo-function\n",
    "#https://stackoverflow.com/questions/44513738/pandas-create-empty-dataframe-with-only-column-names\n",
    "#https://www.tutorialspoint.com/python/string_title.htm\n",
    "#https://stackoverflow.com/questions/134934/display-number-with-leading-zeros\n",
    "#https://pandas.pydata.org/pandas-docs/stable/generated/pandas.DataFrame.to_csv.html\n",
    "#https://matplotlib.org/examples/color/colormaps_reference.html\n",
    "#dates from the openweatherapi are stored as [dt] Time of data calculation, unix, UTC\n",
    "#https://openweathermap.org/current\n",
    "#https://stackoverflow.com/questions/46565580/convert-unix-timestamp-in-python-to-datetime-and-make-2-hours-behind\n"
   ]
  },
  {
   "cell_type": "code",
   "execution_count": 32,
   "metadata": {},
   "outputs": [],
   "source": [
    "# Dependencies and Setup\n",
    "import matplotlib.pyplot as plt\n",
    "import pandas as pd\n",
    "import numpy as np\n",
    "import requests\n",
    "import time\n",
    "\n",
    "from datetime import datetime, timedelta\n",
    "\n",
    "# Import API key\n",
    "from api_keys import api_key\n",
    "\n",
    "\n",
    "# Incorporated citipy to determine city based on latitude and longitude\n",
    "from citipy import citipy\n",
    "\n",
    "# Output File (CSV)\n",
    "output_data_file = \"output_data/cities.csv\"\n"
   ]
  },
  {
   "cell_type": "code",
   "execution_count": 33,
   "metadata": {},
   "outputs": [],
   "source": [
    "#function for time conversion\n",
    "#https://stackoverflow.com/questions/46565580/convert-unix-timestamp-in-python-to-datetime-and-make-2-hours-behind\n",
    "def unixtodate(unix_ts):\n",
    "    #unix_ts = 1507126064\n",
    "    dt = (datetime.fromtimestamp(unix_ts) - timedelta(hours=2)).strftime('%Y-%m-%d %H:%M:%S')\n",
    "    return dt\n"
   ]
  },
  {
   "cell_type": "code",
   "execution_count": 3,
   "metadata": {},
   "outputs": [],
   "source": [
    "# Range of latitudes and longitudes\n",
    "lat_range = (-90, 90)\n",
    "lng_range = (-180, 180)"
   ]
  },
  {
   "cell_type": "code",
   "execution_count": 4,
   "metadata": {},
   "outputs": [],
   "source": [
    "# List for holding lat_lngs and cities\n",
    "lat_lngs = []\n",
    "cities = []\n",
    "\n",
    "# Create a set of random lat and lng combinations\n",
    "lats = np.random.uniform(low=-90.000, high=90.000, size=1500)\n",
    "lngs = np.random.uniform(low=-180.000, high=180.000, size=1500)"
   ]
  },
  {
   "cell_type": "code",
   "execution_count": 5,
   "metadata": {},
   "outputs": [
    {
     "data": {
      "text/html": [
       "<div>\n",
       "<style scoped>\n",
       "    .dataframe tbody tr th:only-of-type {\n",
       "        vertical-align: middle;\n",
       "    }\n",
       "\n",
       "    .dataframe tbody tr th {\n",
       "        vertical-align: top;\n",
       "    }\n",
       "\n",
       "    .dataframe thead th {\n",
       "        text-align: right;\n",
       "    }\n",
       "</style>\n",
       "<table border=\"1\" class=\"dataframe\">\n",
       "  <thead>\n",
       "    <tr style=\"text-align: right;\">\n",
       "      <th></th>\n",
       "      <th>Lat</th>\n",
       "      <th>Long</th>\n",
       "    </tr>\n",
       "  </thead>\n",
       "  <tbody>\n",
       "    <tr>\n",
       "      <th>0</th>\n",
       "      <td>33.920657</td>\n",
       "      <td>6.541488</td>\n",
       "    </tr>\n",
       "    <tr>\n",
       "      <th>1</th>\n",
       "      <td>-32.544583</td>\n",
       "      <td>-52.077538</td>\n",
       "    </tr>\n",
       "    <tr>\n",
       "      <th>2</th>\n",
       "      <td>-63.874802</td>\n",
       "      <td>-32.002751</td>\n",
       "    </tr>\n",
       "    <tr>\n",
       "      <th>3</th>\n",
       "      <td>-70.006473</td>\n",
       "      <td>-55.730294</td>\n",
       "    </tr>\n",
       "    <tr>\n",
       "      <th>4</th>\n",
       "      <td>9.151994</td>\n",
       "      <td>133.164383</td>\n",
       "    </tr>\n",
       "  </tbody>\n",
       "</table>\n",
       "</div>"
      ],
      "text/plain": [
       "         Lat        Long\n",
       "0  33.920657    6.541488\n",
       "1 -32.544583  -52.077538\n",
       "2 -63.874802  -32.002751\n",
       "3 -70.006473  -55.730294\n",
       "4   9.151994  133.164383"
      ]
     },
     "execution_count": 5,
     "metadata": {},
     "output_type": "execute_result"
    }
   ],
   "source": [
    "#using the starter code, build a dataframe for lat/long visaid\n",
    "#maybe create a dataframe with empty columns and then add to it?\n",
    "#https://stackoverflow.com/questions/44513738/pandas-create-empty-dataframe-with-only-column-names\n",
    "\n",
    "#bad syntax missing {}\n",
    "#latlong_df = pd.DataFrame(\"Lat\": lats, \"Long\": lngs)\n",
    "\n",
    "latlong_df = pd.DataFrame({\"Lat\": lats, \"Long\": lngs})\n",
    "\n",
    "latlong_df.head()"
   ]
  },
  {
   "cell_type": "code",
   "execution_count": 6,
   "metadata": {},
   "outputs": [],
   "source": [
    "lat_lngs = zip(lats, lngs)\n",
    "\n",
    "citiesnearby = []"
   ]
  },
  {
   "cell_type": "code",
   "execution_count": 7,
   "metadata": {},
   "outputs": [
    {
     "name": "stdout",
     "output_type": "stream",
     "text": [
      "Using 1500 coordinates, found 613 citie(s)\n"
     ]
    }
   ],
   "source": [
    "\n",
    "# Identify nearest city for each lat, lng combination\n",
    "for lat_lng in lat_lngs:\n",
    "    city = citipy.nearest_city(lat_lng[0], lat_lng[1]).city_name\n",
    "    \n",
    "    #find the total amount of cities nearby because im curious\n",
    "    citiesnearby.append(city)\n",
    "    \n",
    "    # If the city is unique, then add it to a our cities list\n",
    "    if city not in cities:\n",
    "        #print(city)\n",
    "        cities.append(city)\n",
    "\n",
    "# Print the city count to confirm sufficient count\n",
    "#print(len(cities))\n",
    "#print(len(citiesnearby))\n",
    "\n",
    "num_cities_found = len(cities)\n",
    "num_coordinates = len(citiesnearby)\n",
    "\n",
    "print(f'Using {num_coordinates} coordinates, found {num_cities_found} citie(s)')\n"
   ]
  },
  {
   "cell_type": "code",
   "execution_count": 8,
   "metadata": {},
   "outputs": [
    {
     "data": {
      "text/html": [
       "<div>\n",
       "<style scoped>\n",
       "    .dataframe tbody tr th:only-of-type {\n",
       "        vertical-align: middle;\n",
       "    }\n",
       "\n",
       "    .dataframe tbody tr th {\n",
       "        vertical-align: top;\n",
       "    }\n",
       "\n",
       "    .dataframe thead th {\n",
       "        text-align: right;\n",
       "    }\n",
       "</style>\n",
       "<table border=\"1\" class=\"dataframe\">\n",
       "  <thead>\n",
       "    <tr style=\"text-align: right;\">\n",
       "      <th></th>\n",
       "      <th>Cities</th>\n",
       "    </tr>\n",
       "  </thead>\n",
       "  <tbody>\n",
       "    <tr>\n",
       "      <th>0</th>\n",
       "      <td>tuggurt</td>\n",
       "    </tr>\n",
       "    <tr>\n",
       "      <th>1</th>\n",
       "      <td>rio grande</td>\n",
       "    </tr>\n",
       "    <tr>\n",
       "      <th>2</th>\n",
       "      <td>mar del plata</td>\n",
       "    </tr>\n",
       "    <tr>\n",
       "      <th>3</th>\n",
       "      <td>ushuaia</td>\n",
       "    </tr>\n",
       "    <tr>\n",
       "      <th>4</th>\n",
       "      <td>meyungs</td>\n",
       "    </tr>\n",
       "  </tbody>\n",
       "</table>\n",
       "</div>"
      ],
      "text/plain": [
       "          Cities\n",
       "0        tuggurt\n",
       "1     rio grande\n",
       "2  mar del plata\n",
       "3        ushuaia\n",
       "4        meyungs"
      ]
     },
     "execution_count": 8,
     "metadata": {},
     "output_type": "execute_result"
    }
   ],
   "source": [
    "cities_df = pd.DataFrame({\"Cities\":cities})\n",
    "cities_df.head()"
   ]
  },
  {
   "cell_type": "code",
   "execution_count": 26,
   "metadata": {},
   "outputs": [
    {
     "name": "stdout",
     "output_type": "stream",
     "text": [
      "http://api.openweathermap.org/data/2.5/weather?appid=69958e30913d3cf9ab8231330ad52ba7&units=imperial&q=\n"
     ]
    }
   ],
   "source": [
    "baseurl = \"http://api.openweathermap.org/data/2.5/weather?\"\n",
    "#units = \"metric\"\n",
    "units = \"imperial\"\n",
    "\n",
    "# Build partial query URL\n",
    "query_url = f\"{baseurl}appid={api_key}&units={units}&q=\"\n",
    "print(query_url)"
   ]
  },
  {
   "cell_type": "code",
   "execution_count": 35,
   "metadata": {},
   "outputs": [
    {
     "name": "stdout",
     "output_type": "stream",
     "text": [
      "Begin Processing from 613 Cities. 15 Attempts\n",
      "Beginning Data Retrieval\n",
      "-----------------------------\n",
      "00: Skip ** City:Tuggurt not found.\n",
      "01: Add  1 City: Rio Grande Group 1\n",
      "02: Add  2 City: Mar Del Plata Group 1\n",
      "03: Add  3 City: Ushuaia Group 1\n",
      "04: Skip ** City:Meyungs not found.\n",
      "05: Add  4 City: Cherskiy Group 1\n",
      "06: Add  5 City: Bluff Group 2\n",
      "07: Add  6 City: Hithadhoo Group 2\n",
      "08: Add  7 City: Hami Group 2\n",
      "09: Add  8 City: Brae Group 2\n",
      "10: Add  9 City: Hobart Group 2\n",
      "11: Add  10 City: Port Lincoln Group 3\n",
      "12: Skip ** City:Samusu not found.\n",
      "13: Add  11 City: Punta Arenas Group 3\n",
      "14: Add  12 City: Kerema Group 3\n",
      "15: Add  13 City: Orlik Group 3\n",
      "-----------------------------\n",
      "Data Retrieval Complete      \n",
      "\n",
      "********SUMMARY**************\n",
      "Using 1500 coordinates, found 613 citie(s).\n",
      "Created 3 group(s) from a total of 13 citie(s).\n",
      "-----------------------------\n"
     ]
    }
   ],
   "source": [
    "\n",
    "#used for testing only --------->\n",
    "#track the unique responses, found 2 [200, 404]\n",
    "#responsetypes = [] \n",
    "#<-------------------------------\n",
    "\n",
    "#set up a counter\n",
    "counter = 0\n",
    "numbreak = 15\n",
    "\n",
    "#count cities added\n",
    "citiesadded = 0\n",
    "\n",
    "#set up a grouping or modulus group using %\n",
    "modnum = 5\n",
    "modgroup = 1\n",
    "\n",
    "#weathercities = {\"city\":,\"country\":}\n",
    "#dictionary object not working using list instead\n",
    "weathercities = []\n",
    "\n",
    "#testing print --------------------------->\n",
    "print(f'Begin Processing from {len(cities)} Cities. {numbreak} Attempts')\n",
    "print('Beginning Data Retrieval')\n",
    "print('-----------------------------')\n",
    "\n",
    "#<-----------end testing print\n",
    "\n",
    "\n",
    "#loop through the dataframe\n",
    "for index, row in cities_df.iterrows():\n",
    "    #print(row[\"Cities\"])\n",
    "    thecity = row[\"Cities\"]\n",
    "    city_url = query_url + thecity\n",
    "    #print(city_url)\n",
    "    \n",
    "    city_response = requests.get(city_url).json()\n",
    "        \n",
    "\n",
    "    ##This section for testing only ---------->\n",
    "    ##checking for bad responses, only check to see if its possible to get have errors\n",
    "    ##results are we found 2 different response types so we have to deal with them\n",
    "    #responsetype = requests.get(city_url).status_code\n",
    "    #if responsetype not in responsetypes:\n",
    "    #    responsetypes.append(responsetype)\n",
    "    ##<-----------------End testing reponse types\n",
    "    \n",
    "    #testing mod groups\n",
    "    #if (index % 2 == 0):\n",
    "        #modgroup +=1\n",
    "    #<----end mod testing\n",
    "        \n",
    "    \n",
    "    \n",
    "    #if we find a response with 404 we need to skip it\n",
    "    responsetype = requests.get(city_url).status_code\n",
    "    #print(responsetype)\n",
    "    \n",
    "    if responsetype == 200:\n",
    "        citiesadded += 1\n",
    "        #print(responsetype)\n",
    "        #print(city_response[\"id\"])\n",
    "        #print(city_response[\"sys\"][\"country\"])\n",
    "        city_id = city_response[\"id\"]\n",
    "        city_country = city_response[\"sys\"][\"country\"]\n",
    "        city_lat = city_response[\"coord\"][\"lon\"]\n",
    "        city_long = city_response[\"coord\"][\"lat\"]\n",
    "        city_name = city_response[\"name\"]\n",
    "        city_temp_max = city_response[\"main\"][\"temp_max\"]\n",
    "        city_humidity = city_response[\"main\"][\"humidity\"]\n",
    "        city_clouds = city_response[\"clouds\"][\"all\"]\n",
    "        city_winds = city_response[\"wind\"][\"speed\"]\n",
    "        \n",
    "        #use function to convert unix to datetime\n",
    "        city_analysis_date = unixtodate(city_response[\"dt\"])\n",
    "        \n",
    "        #make it so that the cities added Groupings are ONLY for cities added, \n",
    "        #and NOT for the entire list we are searching, this would give us inconsistencies in groups\n",
    "        if (citiesadded % modnum ==0):\n",
    "            modgroup +=1\n",
    "        \n",
    "        #print(f'ID:{city_id} Country:{city_country} City:{city_name}')\n",
    "        \n",
    "        #adding date of analysis\n",
    "        weathercities.append({\"cityid\":city_id\n",
    "                              ,\"country\":city_country\n",
    "                              ,\"city\":city_name\n",
    "                              ,\"lat\":city_lat\n",
    "                              ,\"long\":city_long\n",
    "                              ,\"max temp\":city_temp_max\n",
    "                              ,\"humidity\":city_humidity\n",
    "                              ,\"cloudiness\":city_clouds\n",
    "                              ,\"wind speed\":city_winds\n",
    "                              ,\"groupingid\":modgroup\n",
    "                              ,\"analysis date\":city_analysis_date\n",
    "                             })\n",
    "\n",
    "        #print(f'Adding {counter} city{city_name} ModGroup# {modgroup}')\n",
    "        #\"{:10.4f}\".format(x)\n",
    "        #https://stackoverflow.com/questions/134934/display-number-with-leading-zeros\n",
    "        print(f'{str(index).zfill(2)}: Add  {citiesadded} City: {thecity.title()} Group {modgroup}')\n",
    "        \n",
    "    else:\n",
    "        #print(f'City:{thecity} Response:{responsetype}')\n",
    "        print(f'{str(index).zfill(2)}: Skip ** City:{thecity.title()} not found.')\n",
    "    \n",
    "    #print(f'ModGroup# {modgroup}')\n",
    "    \n",
    "    \n",
    "    #testing for the first 5 records\n",
    "    if counter == numbreak:\n",
    "        break\n",
    "    \n",
    "      \n",
    "    counter+=1\n",
    "        \n",
    "        \n",
    "print('-----------------------------')\n",
    "print('Data Retrieval Complete      \\n')\n",
    "print('********SUMMARY**************')\n",
    "print(f'Using {num_coordinates} coordinates, found {num_cities_found} citie(s).')\n",
    "print(f'Created {modgroup} group(s) from a total of {len(weathercities)} citie(s).')\n",
    "print('-----------------------------')\n"
   ]
  },
  {
   "cell_type": "code",
   "execution_count": 36,
   "metadata": {},
   "outputs": [
    {
     "name": "stdout",
     "output_type": "stream",
     "text": [
      "city          13\n",
      "cityid        13\n",
      "cloudiness    13\n",
      "country       13\n",
      "grouping      13\n",
      "humidity      13\n",
      "lat           13\n",
      "long          13\n",
      "max temp      13\n",
      "wind speed    13\n",
      "dtype: int64\n"
     ]
    },
    {
     "data": {
      "text/plain": [
       "{'cityid': 3451138,\n",
       " 'country': 'BR',\n",
       " 'city': 'Rio Grande',\n",
       " 'lat': -52.1,\n",
       " 'long': -32.03,\n",
       " 'max temp': 62.6,\n",
       " 'humidity': 55,\n",
       " 'cloudiness': 0,\n",
       " 'wind speed': 13.87,\n",
       " 'groupingid': 1,\n",
       " 'analysis date': '2018-09-05 12:00:00'}"
      ]
     },
     "execution_count": 36,
     "metadata": {},
     "output_type": "execute_result"
    }
   ],
   "source": [
    "print(weather_cities_df.count())\n",
    "#weathercities[0:2]\n",
    "weathercities[0]"
   ]
  },
  {
   "cell_type": "code",
   "execution_count": 37,
   "metadata": {
    "scrolled": true
   },
   "outputs": [
    {
     "data": {
      "text/html": [
       "<div>\n",
       "<style scoped>\n",
       "    .dataframe tbody tr th:only-of-type {\n",
       "        vertical-align: middle;\n",
       "    }\n",
       "\n",
       "    .dataframe tbody tr th {\n",
       "        vertical-align: top;\n",
       "    }\n",
       "\n",
       "    .dataframe thead th {\n",
       "        text-align: right;\n",
       "    }\n",
       "</style>\n",
       "<table border=\"1\" class=\"dataframe\">\n",
       "  <thead>\n",
       "    <tr style=\"text-align: right;\">\n",
       "      <th></th>\n",
       "      <th>analysis date</th>\n",
       "      <th>city</th>\n",
       "      <th>cityid</th>\n",
       "      <th>cloudiness</th>\n",
       "      <th>country</th>\n",
       "      <th>groupingid</th>\n",
       "      <th>humidity</th>\n",
       "      <th>lat</th>\n",
       "      <th>long</th>\n",
       "      <th>max temp</th>\n",
       "      <th>wind speed</th>\n",
       "    </tr>\n",
       "  </thead>\n",
       "  <tbody>\n",
       "    <tr>\n",
       "      <th>0</th>\n",
       "      <td>2018-09-05 12:00:00</td>\n",
       "      <td>Rio Grande</td>\n",
       "      <td>3451138</td>\n",
       "      <td>0</td>\n",
       "      <td>BR</td>\n",
       "      <td>1</td>\n",
       "      <td>55</td>\n",
       "      <td>-52.10</td>\n",
       "      <td>-32.03</td>\n",
       "      <td>62.60</td>\n",
       "      <td>13.87</td>\n",
       "    </tr>\n",
       "    <tr>\n",
       "      <th>1</th>\n",
       "      <td>2018-09-05 12:13:06</td>\n",
       "      <td>Mar del Plata</td>\n",
       "      <td>3863379</td>\n",
       "      <td>92</td>\n",
       "      <td>AR</td>\n",
       "      <td>1</td>\n",
       "      <td>54</td>\n",
       "      <td>-67.52</td>\n",
       "      <td>-46.43</td>\n",
       "      <td>56.74</td>\n",
       "      <td>6.62</td>\n",
       "    </tr>\n",
       "    <tr>\n",
       "      <th>2</th>\n",
       "      <td>2018-09-05 12:00:00</td>\n",
       "      <td>Ushuaia</td>\n",
       "      <td>3833367</td>\n",
       "      <td>0</td>\n",
       "      <td>AR</td>\n",
       "      <td>1</td>\n",
       "      <td>70</td>\n",
       "      <td>-68.31</td>\n",
       "      <td>-54.81</td>\n",
       "      <td>44.60</td>\n",
       "      <td>6.40</td>\n",
       "    </tr>\n",
       "    <tr>\n",
       "      <th>3</th>\n",
       "      <td>2018-09-05 12:13:07</td>\n",
       "      <td>Cherskiy</td>\n",
       "      <td>2126199</td>\n",
       "      <td>44</td>\n",
       "      <td>RU</td>\n",
       "      <td>1</td>\n",
       "      <td>76</td>\n",
       "      <td>161.30</td>\n",
       "      <td>68.75</td>\n",
       "      <td>43.69</td>\n",
       "      <td>8.52</td>\n",
       "    </tr>\n",
       "    <tr>\n",
       "      <th>4</th>\n",
       "      <td>2018-09-05 12:13:08</td>\n",
       "      <td>Bluff</td>\n",
       "      <td>2175403</td>\n",
       "      <td>8</td>\n",
       "      <td>AU</td>\n",
       "      <td>2</td>\n",
       "      <td>89</td>\n",
       "      <td>149.07</td>\n",
       "      <td>-23.58</td>\n",
       "      <td>58.36</td>\n",
       "      <td>8.63</td>\n",
       "    </tr>\n",
       "  </tbody>\n",
       "</table>\n",
       "</div>"
      ],
      "text/plain": [
       "         analysis date           city   cityid  cloudiness country  \\\n",
       "0  2018-09-05 12:00:00     Rio Grande  3451138           0      BR   \n",
       "1  2018-09-05 12:13:06  Mar del Plata  3863379          92      AR   \n",
       "2  2018-09-05 12:00:00        Ushuaia  3833367           0      AR   \n",
       "3  2018-09-05 12:13:07       Cherskiy  2126199          44      RU   \n",
       "4  2018-09-05 12:13:08          Bluff  2175403           8      AU   \n",
       "\n",
       "   groupingid  humidity     lat   long  max temp  wind speed  \n",
       "0           1        55  -52.10 -32.03     62.60       13.87  \n",
       "1           1        54  -67.52 -46.43     56.74        6.62  \n",
       "2           1        70  -68.31 -54.81     44.60        6.40  \n",
       "3           1        76  161.30  68.75     43.69        8.52  \n",
       "4           2        89  149.07 -23.58     58.36        8.63  "
      ]
     },
     "execution_count": 37,
     "metadata": {},
     "output_type": "execute_result"
    }
   ],
   "source": [
    "weather_cities_df = pd.DataFrame(weathercities)\n",
    "weather_cities_df.head()"
   ]
  },
  {
   "cell_type": "code",
   "execution_count": 58,
   "metadata": {},
   "outputs": [
    {
     "name": "stdout",
     "output_type": "stream",
     "text": [
      "2018-09-05\n",
      "09/05/18\n"
     ]
    }
   ],
   "source": [
    "#get the max analysis date and use for plot titles etc.\n",
    "analysisdate = weather_cities_df[\"analysis date\"].max()\n",
    "\n",
    "#split the date because we dont want the time\n",
    "analysisdate = analysisdate.split(\" \")\n",
    "\n",
    "#use the date part of the date\n",
    "analysisdate = analysisdate[0]\n",
    "#https://stackoverflow.com/questions/14524322/how-to-convert-a-date-string-to-different-format\n",
    "print(analysisdate)\n",
    "\n",
    "#format to a nicer looking string to add to titles\n",
    "analysisdate = datetime.strptime(analysisdate, '%Y-%m-%d').strftime('%m/%d/%y')\n",
    "print(analysisdate)"
   ]
  },
  {
   "cell_type": "code",
   "execution_count": 18,
   "metadata": {},
   "outputs": [],
   "source": [
    "#export the dataframe to csv\n",
    "weather_cities_df.to_csv(\"../data/testing_cities.csv\")"
   ]
  },
  {
   "cell_type": "code",
   "execution_count": 25,
   "metadata": {},
   "outputs": [
    {
     "data": {
      "text/plain": [
       "city          13\n",
       "cityid        13\n",
       "cloudiness    13\n",
       "country       13\n",
       "grouping      13\n",
       "humidity      13\n",
       "lat           13\n",
       "long          13\n",
       "max temp      13\n",
       "wind speed    13\n",
       "dtype: int64"
      ]
     },
     "execution_count": 25,
     "metadata": {},
     "output_type": "execute_result"
    }
   ],
   "source": [
    "#make sure all columns have the same counts, no nulls\n",
    "weather_cities_df.count()"
   ]
  },
  {
   "cell_type": "code",
   "execution_count": 63,
   "metadata": {},
   "outputs": [],
   "source": [
    "#get the plot values\n",
    "\n",
    "#x plot lattitudes\n",
    "xplot_lats = weather_cities_df[\"lat\"]\n",
    "\n",
    "\n",
    "#temperatures\n",
    "yplot_temp = weather_cities_df[\"max temp\"]\n",
    "\n",
    "#humidities\n",
    "yplot_humid = weather_cities_df[\"humidity\"]\n",
    "\n",
    "#cloudiness\n",
    "yplot_clouds = weather_cities_df[\"cloudiness\"]\n",
    "\n",
    "#wind speeds\n",
    "yplot_winds = weather_cities_df[\"wind speed\"]\n",
    "\n",
    "\n",
    "begintitle = \"City Latitude vs. \"\n",
    "endtitle =  \" as of \" + analysisdate\n",
    "\n",
    "current_title = \"\"\n",
    "current_x_title = \"\"\n",
    "current_y_title = \"\"\n",
    "\n",
    "ymarker = \"o\"\n",
    "x_label = \"Cities\"\n",
    "\n"
   ]
  },
  {
   "cell_type": "code",
   "execution_count": 64,
   "metadata": {},
   "outputs": [
    {
     "data": {
      "image/png": "[encoded data removed]",
      "text/plain": [
       "<Figure size 432x288 with 1 Axes>"
      ]
     },
     "metadata": {},
     "output_type": "display_data"
    }
   ],
   "source": [
    "#Temperature (f) vs. Latitude\n",
    "#https://matplotlib.org/api/_as_gen/matplotlib.pyplot.scatter.html\n",
    "current_title = begintitle + \"Temperature (f)\" + endtitle\n",
    "current_x_title = \"Latitude\"\n",
    "current_y_title = \"Temperature (Max) in Farenheit\"\n",
    "\n",
    "\n",
    "plt.scatter(xplot_lats, yplot_temp\n",
    "            ,label=x_label, marker=ymarker\n",
    "            ,alpha=.5)\n",
    "\n",
    "plt.title(current_title)\n",
    "plt.xlabel(current_x_title)\n",
    "plt.ylabel(current_y_title)\n",
    "plt.grid()\n",
    "\n",
    "plt.show()\n"
   ]
  },
  {
   "cell_type": "code",
   "execution_count": 71,
   "metadata": {},
   "outputs": [
    {
     "data": {
      "image/png": "[encoded data removed]",
      "text/plain": [
       "<Figure size 432x288 with 1 Axes>"
      ]
     },
     "metadata": {},
     "output_type": "display_data"
    }
   ],
   "source": [
    "#Humidity (f) vs. Latitude\n",
    "current_title = begintitle + \"Humidity\" + endtitle\n",
    "#current_x_title = \"Latitude\"\n",
    "current_y_title = \"Humidity %\"\n",
    "\n",
    "#https://stackoverflow.com/questions/17682216/scatter-plot-and-color-mapping-in-python\n",
    "#https://matplotlib.org/examples/color/colormaps_reference.html\n",
    "plt.scatter(xplot_lats, yplot_humid\n",
    "            ,label=x_label, marker=ymarker\n",
    "            ,alpha=.5, cmap=\"plasma\")\n",
    "\n",
    "plt.title(current_title)\n",
    "plt.xlabel(current_x_title)\n",
    "plt.ylabel(current_y_title)\n",
    "plt.grid()\n",
    "\n",
    "plt.show()"
   ]
  },
  {
   "cell_type": "code",
   "execution_count": null,
   "metadata": {},
   "outputs": [],
   "source": []
  },
  {
   "cell_type": "code",
   "execution_count": null,
   "metadata": {},
   "outputs": [],
   "source": []
  },
  {
   "cell_type": "code",
   "execution_count": null,
   "metadata": {},
   "outputs": [],
   "source": []
  },
  {
   "cell_type": "code",
   "execution_count": null,
   "metadata": {},
   "outputs": [],
   "source": []
  }
 ],
 "metadata": {
  "kernelspec": {
   "display_name": "Python [conda env:PythonData]",
   "language": "python",
   "name": "conda-env-PythonData-py"
  },
  "language_info": {
   "codemirror_mode": {
    "name": "ipython",
    "version": 3
   },
   "file_extension": ".py",
   "mimetype": "text/x-python",
   "name": "python",
   "nbconvert_exporter": "python",
   "pygments_lexer": "ipython3",
   "version": "3.6.5"
  }
 },
 "nbformat": 4,
 "nbformat_minor": 2
}
